{
 "cells": [
  {
   "cell_type": "code",
   "execution_count": 12,
   "metadata": {},
   "outputs": [],
   "source": [
    "import dwavebinarycsp\n",
    "from dwave.system.samplers import DWaveSampler\n",
    "from dwave.system.composites import EmbeddingComposite\n",
    "import dimod\n"
   ]
  },
  {
   "cell_type": "code",
   "execution_count": 21,
   "metadata": {},
   "outputs": [],
   "source": [
    "Nodes = ['X1', 'X2', 'X3']\n"
   ]
  },
  {
   "cell_type": "code",
   "execution_count": 22,
   "metadata": {},
   "outputs": [],
   "source": [
    "valid_path = {(0, 1, 0), (1, 0, 1)}\n"
   ]
  },
  {
   "cell_type": "code",
   "execution_count": 23,
   "metadata": {},
   "outputs": [],
   "source": [
    "# Create a binary constraint satisfaction problem\n",
    "csp = dwavebinarycsp.ConstraintSatisfactionProblem(dwavebinarycsp.BINARY)"
   ]
  },
  {
   "cell_type": "code",
   "execution_count": 24,
   "metadata": {},
   "outputs": [],
   "source": [
    "csp.add_constraint(valid_path, Nodes)"
   ]
  },
  {
   "cell_type": "code",
   "execution_count": 25,
   "metadata": {},
   "outputs": [],
   "source": [
    "bqm = dwavebinarycsp.stitch(csp)"
   ]
  },
  {
   "cell_type": "code",
   "execution_count": 26,
   "metadata": {},
   "outputs": [],
   "source": [
    "model = bqm.to_qubo()"
   ]
  },
  {
   "cell_type": "code",
   "execution_count": 27,
   "metadata": {},
   "outputs": [],
   "source": [
    "Q = model[0]"
   ]
  },
  {
   "cell_type": "code",
   "execution_count": 29,
   "metadata": {},
   "outputs": [
    {
     "data": {
      "text/plain": [
       "{('X1', 'X1'): 0.0,\n",
       " ('X2', 'X2'): -4.0,\n",
       " ('X3', 'X3'): 0.0,\n",
       " ('X2', 'X1'): 4.0,\n",
       " ('X3', 'X1'): -4.0,\n",
       " ('X3', 'X2'): 4.0}"
      ]
     },
     "execution_count": 29,
     "metadata": {},
     "output_type": "execute_result"
    }
   ],
   "source": [
    "Q"
   ]
  },
  {
   "cell_type": "code",
   "execution_count": 30,
   "metadata": {},
   "outputs": [],
   "source": [
    "Q = ({('X1', 'X1'): 0.27,\n",
    "  ('X2', 'X2'): -3.45,\n",
    "  ('X3', 'X3'): 0.18,\n",
    "  ('X2', 'X1'): 4.0,\n",
    "  ('X3', 'X1'): -4.0,\n",
    "  ('X3', 'X2'): 4.0})"
   ]
  },
  {
   "cell_type": "code",
   "execution_count": 31,
   "metadata": {},
   "outputs": [],
   "source": [
    "#sampler = dimod.ExactSolver()\n",
    "sampler = EmbeddingComposite(DWaveSampler())\n",
    "response = sampler.sample_qubo(Q,num_reads=200)"
   ]
  },
  {
   "cell_type": "code",
   "execution_count": 32,
   "metadata": {},
   "outputs": [
    {
     "name": "stdout",
     "output_type": "stream",
     "text": [
      "{'X1': 1, 'X2': 0, 'X3': 1} Energy:  -3.55 Occurrences:  132\n",
      "{'X1': 0, 'X2': 1, 'X3': 0} Energy:  -3.45 Occurrences:  68\n"
     ]
    }
   ],
   "source": [
    "for datum in response.data(['sample', 'energy', 'num_occurrences']):   \n",
    "    print(datum.sample, \"Energy: \", datum.energy, \"Occurrences: \", datum.num_occurrences)"
   ]
  },
  {
   "cell_type": "code",
   "execution_count": null,
   "metadata": {},
   "outputs": [],
   "source": []
  }
 ],
 "metadata": {
  "kernelspec": {
   "display_name": "Python 3",
   "language": "python",
   "name": "python3"
  },
  "language_info": {
   "codemirror_mode": {
    "name": "ipython",
    "version": 3
   },
   "file_extension": ".py",
   "mimetype": "text/x-python",
   "name": "python",
   "nbconvert_exporter": "python",
   "pygments_lexer": "ipython3",
   "version": "3.7.1rc2"
  }
 },
 "nbformat": 4,
 "nbformat_minor": 2
}
